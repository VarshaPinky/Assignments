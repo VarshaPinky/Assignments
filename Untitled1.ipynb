{
 "cells": [
  {
   "cell_type": "code",
   "execution_count": 22,
   "metadata": {},
   "outputs": [],
   "source": [
    "import nltk"
   ]
  },
  {
   "cell_type": "code",
   "execution_count": 23,
   "metadata": {},
   "outputs": [],
   "source": [
    "from nltk.corpus import wordnet as wn\n",
    "type = 'n'"
   ]
  },
  {
   "cell_type": "code",
   "execution_count": 24,
   "metadata": {},
   "outputs": [],
   "source": [
    "synsets = wn.all_synsets(type)"
   ]
  },
  {
   "cell_type": "code",
   "execution_count": 25,
   "metadata": {},
   "outputs": [],
   "source": [
    "#Add lemma from each synset into list\n",
    "lemmas = []\n",
    "for synset in synsets:\n",
    "  for lemma in synset.lemmas():\n",
    "    lemmas.append(lemma.name())"
   ]
  },
  {
   "cell_type": "code",
   "execution_count": 26,
   "metadata": {},
   "outputs": [],
   "source": [
    "lemmas = set(lemmas) #remove duplicates"
   ]
  },
  {
   "cell_type": "code",
   "execution_count": 27,
   "metadata": {},
   "outputs": [],
   "source": [
    "#count senses in each lemma\n",
    "count = 0\n",
    "for lemma in lemmas:\n",
    "  count = count + len(wn.synsets(lemma, type))"
   ]
  },
  {
   "cell_type": "code",
   "execution_count": 28,
   "metadata": {},
   "outputs": [
    {
     "name": "stdout",
     "output_type": "stream",
     "text": [
      "Total senses for nouns: 152763\n",
      "Average Polysemy of  n :  1.2833560159282222\n"
     ]
    }
   ],
   "source": [
    "print('Total senses for nouns:',count)\n",
    "print('Average Polysemy of ', type,': ' , count/len(lemmas))"
   ]
  },
  {
   "cell_type": "code",
   "execution_count": 29,
   "metadata": {},
   "outputs": [],
   "source": [
    "type1 = 'v'\n",
    "synsets = wn.all_synsets(type1)\n",
    "lemmas = []\n",
    "for synset in synsets:\n",
    "  for lemma in synset.lemmas():\n",
    "    lemmas.append(lemma.name())"
   ]
  },
  {
   "cell_type": "code",
   "execution_count": 30,
   "metadata": {},
   "outputs": [
    {
     "name": "stdout",
     "output_type": "stream",
     "text": [
      "Total senses for verb: 152763\n",
      "Average Polysemy of  v :  5.098255280073462\n"
     ]
    }
   ],
   "source": [
    "count1 = 0\n",
    "for lemma in lemmas:\n",
    "  count1 = count1 + len(wn.synsets(lemma, type1))\n",
    "print('Total senses for verb:',count)\n",
    "print('Average Polysemy of ', type1,': ' , count1/len(lemmas))"
   ]
  },
  {
   "cell_type": "code",
   "execution_count": 31,
   "metadata": {},
   "outputs": [
    {
     "name": "stdout",
     "output_type": "stream",
     "text": [
      "Total senses for adjective: 152763\n",
      "Average Polysemy of  a :  2.233702173043594\n"
     ]
    }
   ],
   "source": [
    "type2 = 'a'\n",
    "synsets = wn.all_synsets(type2)\n",
    "lemmas = []\n",
    "for synset in synsets:\n",
    "  for lemma in synset.lemmas():\n",
    "    lemmas.append(lemma.name())\n",
    "count2 = 0\n",
    "for lemma in lemmas:\n",
    "  count2 = count2 + len(wn.synsets(lemma, type2))\n",
    "print('Total senses for adjective:',count) \n",
    "print('Average Polysemy of ', type2,': ' , count2/len(lemmas))"
   ]
  },
  {
   "cell_type": "code",
   "execution_count": 32,
   "metadata": {},
   "outputs": [
    {
     "name": "stdout",
     "output_type": "stream",
     "text": [
      "Total senses for adverb: 152763\n",
      "Average Polysemy of  r :  27.376881720430106\n"
     ]
    }
   ],
   "source": [
    "type3 = 'r'\n",
    "synsets = wn.all_synsets(type3)\n",
    "lemmas = []\n",
    "for synset in synsets:\n",
    "  for lemma in synset.lemmas():\n",
    "    lemmas.append(lemma.name())\n",
    "count3 = 0\n",
    "for lemma in lemmas:\n",
    "  count3 = count3 + len(wn.synsets(lemma, type3))\n",
    "print('Total senses for adverb:',count) \n",
    "print('Average Polysemy of ', type3,': ' , count/len(lemmas))"
   ]
  },
  {
   "cell_type": "code",
   "execution_count": 34,
   "metadata": {},
   "outputs": [],
   "source": [
    "from nltk.wsd import lesk"
   ]
  },
  {
   "cell_type": "code",
   "execution_count": null,
   "metadata": {},
   "outputs": [],
   "source": []
  }
 ],
 "metadata": {
  "kernelspec": {
   "display_name": "Python 3",
   "language": "python",
   "name": "python3"
  },
  "language_info": {
   "codemirror_mode": {
    "name": "ipython",
    "version": 3
   },
   "file_extension": ".py",
   "mimetype": "text/x-python",
   "name": "python",
   "nbconvert_exporter": "python",
   "pygments_lexer": "ipython3",
   "version": "3.7.4"
  }
 },
 "nbformat": 4,
 "nbformat_minor": 2
}
